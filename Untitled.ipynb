{
  "cells": [
    {
      "cell_type": "code",
      "execution_count": 50,
      "id": "4daf04dc-2de4-4d7b-b291-5299a661c515",
      "metadata": {
        "id": "4daf04dc-2de4-4d7b-b291-5299a661c515"
      },
      "outputs": [],
      "source": [
        "width = height = snakes = 0\n",
        "snake_lengths = []\n",
        "matrix = []\n",
        "\n",
        "with open('/content/00-example.txt') as file:\n",
        "    for idx, line in enumerate(file):\n",
        "        if idx == 0 :\n",
        "            width, height, snakes = line.split()\n",
        "        elif idx == 1 :\n",
        "            snake_lengths = line.split()\n",
        "            if len(snake_lengths) != int(snakes):\n",
        "                raise ValueError('Wrong input format.')\n",
        "        else:\n",
        "            matrix.append(line.split())"
      ]
    },
    {
      "cell_type": "code",
      "execution_count": 51,
      "id": "f3cec10d-fb24-45d0-87fd-4e38c2108516",
      "metadata": {
        "colab": {
          "base_uri": "https://localhost:8080/"
        },
        "id": "f3cec10d-fb24-45d0-87fd-4e38c2108516",
        "outputId": "dbff0632-c97c-44f1-9b91-3ba706845765"
      },
      "outputs": [
        {
          "output_type": "stream",
          "name": "stdout",
          "text": [
            "{'width': '10', 'height': '6', 'snakes': '5', 'snake_lengths': ['6', '7', '5', '3', '3']}\n"
          ]
        }
      ],
      "source": [
        "print({\"width\":width, \"height\":height, \"snakes\" : snakes, \"snake_lengths\":snake_lengths })"
      ]
    },
    {
      "cell_type": "code",
      "execution_count": 52,
      "id": "55badc98-6649-4ea1-a796-4dca671e2098",
      "metadata": {
        "id": "55badc98-6649-4ea1-a796-4dca671e2098"
      },
      "outputs": [],
      "source": [
        "def snakesequence(S, m, n):\n",
        "    sequence = {}\n",
        "    DP = [[1 for x in range(m+1)] for x in range(n+1)]\n",
        "    a, b, maximum = 0, 0, 0\n",
        "    position = [0, 0]\n",
        "    for i in range(0, n+1):\n",
        "        for j in range(0, m+1):\n",
        "            a, b = 0, 0\n",
        "            p = \"initial\"\n",
        "            if(i > 0 and abs(S[i][j] - S[i-1][j]) == 1):\n",
        "                a = DP[i-1][j]\n",
        "            if(j > 0 and abs(S[i][j] - S[i][j-1]) == 1):\n",
        "                b = DP[i][j-1]\n",
        "            if a != 0 and a >= b:\n",
        "                p = str(i-1) + \" \" + str(j)\n",
        "            elif b != 0:\n",
        "                p = str(i) + \" \" + str(j-1)\n",
        "            q = str(i) + \" \" + str(j)\n",
        "            sequence[q] = p\n",
        "            DP[i][j] = DP[i][j] + max(a, b)\n",
        "            if DP[i][j] >= maximum:\n",
        "                maximum = DP[i][j]\n",
        "                position[0] = i\n",
        "                position[1] = j\n",
        "    snakeValues = []\n",
        "    snakePositions = []\n",
        "    snakeValues.append(S[position[0]][position[1]])\n",
        "    check = 'found'\n",
        "    str_next = str(position[0]) + \" \" + str(position[1])\n",
        "    findingIndices = sequence[str_next].split()\n",
        "    while(check == 'found'):\n",
        "        if sequence[str_next] == 'initial':\n",
        "            snakePositions.insert(0, str_next)\n",
        "            check = 'end'\n",
        "            continue\n",
        "        findingIndices = sequence[str_next].split()\n",
        "        g = int(findingIndices[0])\n",
        "        h = int(findingIndices[1])\n",
        "        snakeValues.insert(0, S[g][h])\n",
        "        snake_position = str(g) + \" \" + str(h)\n",
        "        snakePositions.insert(0, str_next)\n",
        "        str_next = sequence[str_next]\n",
        "    return [snakeValues, snakePositions]"
      ]
    },
    {
      "cell_type": "code",
      "execution_count": 53,
      "id": "4d4c6271-692b-4570-b82b-52b4753e533c",
      "metadata": {
        "colab": {
          "base_uri": "https://localhost:8080/"
        },
        "id": "4d4c6271-692b-4570-b82b-52b4753e533c",
        "outputId": "6492deb5-ea23-47b2-b0e5-ed64726e3c2e"
      },
      "outputs": [
        {
          "output_type": "stream",
          "name": "stdout",
          "text": [
            "3 , ['2', '0']\n",
            "4 , ['2', '1']\n",
            "5 , ['2', '2']\n",
            "6 , ['3', '2']\n",
            "7 , ['4', '2']\n",
            "8 , ['5', '2']\n"
          ]
        }
      ],
      "source": [
        "S = [[int(element.replace('*','-1')) for element in row] for row in matrix]\n",
        "m = int(width)-1\n",
        "n = int(height)-1\n",
        "seq = snakesequence(S, m, n)\n",
        "for i in range(len(seq[0])):\n",
        "    print(seq[0][i], \",\", seq[1][i].split())"
      ]
    },
    {
      "cell_type": "code",
      "source": [
        "array = []\n",
        "for x in range(n+1):\n",
        "    for y in range(m+1):\n",
        "        if matrix[x][y] != '*':\n",
        "            array.append((int(matrix[x][y]) , x, y))\n",
        "array.sort(key=lambda t: t[0], reverse=True)\n",
        "print(array)"
      ],
      "metadata": {
        "colab": {
          "base_uri": "https://localhost:8080/"
        },
        "id": "LGQI4nDwT7p6",
        "outputId": "1335a4e4-6ab3-4c26-d451-7c1ad3359cfc"
      },
      "id": "LGQI4nDwT7p6",
      "execution_count": 54,
      "outputs": [
        {
          "output_type": "stream",
          "name": "stdout",
          "text": [
            "[(8, 0, 5), (8, 0, 9), (8, 1, 9), (8, 5, 2), (7, 1, 6), (7, 2, 9), (7, 4, 2), (7, 4, 9), (7, 5, 1), (6, 0, 3), (6, 0, 8), (6, 1, 0), (6, 2, 5), (6, 3, 2), (6, 3, 9), (6, 4, 1), (6, 4, 6), (6, 5, 5), (6, 5, 9), (5, 0, 1), (5, 0, 6), (5, 1, 4), (5, 1, 7), (5, 2, 2), (5, 2, 8), (5, 3, 1), (5, 3, 6), (5, 4, 8), (5, 5, 3), (5, 5, 8), (4, 1, 1), (4, 2, 1), (4, 2, 6), (4, 3, 8), (4, 4, 7), (4, 5, 7), (3, 0, 2), (3, 0, 4), (3, 1, 5), (3, 2, 0), (3, 2, 4), (3, 3, 0), (3, 3, 3), (3, 3, 5), (3, 3, 7), (3, 4, 0), (3, 4, 4), (3, 5, 0), (3, 5, 4), (2, 0, 7), (2, 1, 8), (1, 0, 0), (0, 1, 3), (0, 2, 3), (0, 3, 4), (0, 4, 5), (0, 5, 6)]\n"
          ]
        }
      ]
    },
    {
      "cell_type": "code",
      "source": [
        "\n",
        "import copy\n",
        "visited = copy.deepcopy(matrix)\n",
        "def snake(x, y, length, sum):\n",
        "    visited[x][y] = \"!\"\n",
        "    if length <= 0:\n",
        "        return sum + int(matrix[x][y])\n",
        "    dirX = [0, 0, 1, -1]\n",
        "    dirY = [1, -1, 0, 0]\n",
        "    symbol = [\"R\", \"L\", \"D\", \"U\"]\n",
        "    max = -100000\n",
        "    nextX = nextY = 0\n",
        "    sym = ''\n",
        "    for d in range(4):\n",
        "        newX = (x + dirX[d]) % int(height)\n",
        "        newY = (y + dirY[d]) % int(width)\n",
        "        if visited[newX][newY] != \"!\" and matrix[newX][newY] != \"*\" and int(matrix[newX][newY]) > max:\n",
        "            max = int(matrix[newX][newY])\n",
        "            nextX = newX\n",
        "            nextY = newY\n",
        "            sym = symbol[d]\n",
        "    if sym == '':\n",
        "      raise Exception(\"no option left\")\n",
        "    print(sym, end=' ')\n",
        "    return snake(nextX, nextY, length - 1, sum + int(matrix[x][y]))\n",
        "\n",
        "idx = 0\n",
        "sum = 0\n",
        "for s_l in snake_lengths:\n",
        "    while visited[array[idx][1]][array[idx][2]] == \"!\":\n",
        "        idx += 1         \n",
        "    print(array[idx][1], array[idx][2], end=' ')\n",
        "    for i in range(10):\n",
        "      try:\n",
        "        sum += snake(array[idx][1], array[idx][2], int(s_l)-1, 0)\n",
        "        break\n",
        "      except Exception as error:\n",
        "        continue\n",
        "\n",
        "    print()\n",
        "    # print(\"******\", sum)\n",
        "\n"
      ],
      "metadata": {
        "colab": {
          "base_uri": "https://localhost:8080/"
        },
        "id": "uDcBwk-bb4gO",
        "outputId": "71028d62-128c-4cc2-b5bf-f8e05ddeb4c2"
      },
      "id": "uDcBwk-bb4gO",
      "execution_count": 55,
      "outputs": [
        {
          "output_type": "stream",
          "name": "stdout",
          "text": [
            "0 5 U L L L L \n",
            "0 9 D D D D D L \n",
            "1 6 R R U L \n",
            "4 2 L U \n",
            "0 3 R D \n"
          ]
        }
      ]
    }
  ],
  "metadata": {
    "kernelspec": {
      "display_name": "Python 3 (ipykernel)",
      "language": "python",
      "name": "python3"
    },
    "language_info": {
      "codemirror_mode": {
        "name": "ipython",
        "version": 3
      },
      "file_extension": ".py",
      "mimetype": "text/x-python",
      "name": "python",
      "nbconvert_exporter": "python",
      "pygments_lexer": "ipython3",
      "version": "3.9.13"
    },
    "colab": {
      "provenance": []
    }
  },
  "nbformat": 4,
  "nbformat_minor": 5
}