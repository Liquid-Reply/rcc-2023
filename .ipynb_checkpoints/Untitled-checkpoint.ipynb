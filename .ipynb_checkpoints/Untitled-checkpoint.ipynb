{
 "cells": [
  {
   "cell_type": "code",
   "execution_count": 52,
   "id": "4daf04dc-2de4-4d7b-b291-5299a661c515",
   "metadata": {},
   "outputs": [],
   "source": [
    "width = height = snakes = 0\n",
    "snake_lengths = []\n",
    "matrix = []\n",
    "\n",
    "with open('./00-example.txt') as file:\n",
    "    for idx, line in enumerate(file):\n",
    "        if idx == 0 :\n",
    "            width, height, snakes = line.split()\n",
    "        elif idx == 1 :\n",
    "            snake_lengths = line.split()\n",
    "            if len(snake_lengths) != int(snakes):\n",
    "                raise ValueError('Wrong input format.')\n",
    "        else:\n",
    "            matrix.append(line.split())"
   ]
  },
  {
   "cell_type": "code",
   "execution_count": 53,
   "id": "f3cec10d-fb24-45d0-87fd-4e38c2108516",
   "metadata": {},
   "outputs": [
    {
     "name": "stdout",
     "output_type": "stream",
     "text": [
      "{'width': '10', 'height': '6', 'snakes': '5', 'snake_lengths': ['6', '7', '5', '3', '3']}\n"
     ]
    }
   ],
   "source": [
    "print({\"width\":width, \"height\":height, \"snakes\" : snakes, \"snake_lengths\":snake_lengths })"
   ]
  },
  {
   "cell_type": "code",
   "execution_count": 86,
   "id": "55badc98-6649-4ea1-a796-4dca671e2098",
   "metadata": {},
   "outputs": [],
   "source": [
    "def snakesequence(S, m, n):\n",
    "    sequence = {}\n",
    "    DP = [[1 for x in range(m+1)] for x in range(n+1)]\n",
    "    a, b, maximum = 0, 0, 0\n",
    "    position = [0, 0]\n",
    "    for i in range(0, n+1):\n",
    "        for j in range(0, m+1):\n",
    "            a, b = 0, 0\n",
    "            p = \"initial\"\n",
    "            if(i > 0 and abs(S[i][j] - S[i-1][j]) == 1):\n",
    "                a = DP[i-1][j]\n",
    "            if(j > 0 and abs(S[i][j] - S[i][j-1]) == 1):\n",
    "                b = DP[i][j-1]\n",
    "            if a != 0 and a >= b:\n",
    "                p = str(i-1) + \" \" + str(j)\n",
    "            elif b != 0:\n",
    "                p = str(i) + \" \" + str(j-1)\n",
    "            q = str(i) + \" \" + str(j)\n",
    "            sequence[q] = p\n",
    "            DP[i][j] = DP[i][j] + max(a, b)\n",
    "            if DP[i][j] >= maximum:\n",
    "                maximum = DP[i][j]\n",
    "                position[0] = i\n",
    "                position[1] = j\n",
    "    snakeValues = []\n",
    "    snakePositions = []\n",
    "    snakeValues.append(S[position[0]][position[1]])\n",
    "    check = 'found'\n",
    "    str_next = str(position[0]) + \" \" + str(position[1])\n",
    "    findingIndices = sequence[str_next].split()\n",
    "    while(check == 'found'):\n",
    "        if sequence[str_next] == 'initial':\n",
    "            snakePositions.insert(0, str_next)\n",
    "            check = 'end'\n",
    "            continue\n",
    "        findingIndices = sequence[str_next].split()\n",
    "        g = int(findingIndices[0])\n",
    "        h = int(findingIndices[1])\n",
    "        snakeValues.insert(0, S[g][h])\n",
    "        snake_position = str(g) + \" \" + str(h)\n",
    "        snakePositions.insert(0, str_next)\n",
    "        str_next = sequence[str_next]\n",
    "    return [snakeValues, snakePositions]"
   ]
  },
  {
   "cell_type": "code",
   "execution_count": 99,
   "id": "4d4c6271-692b-4570-b82b-52b4753e533c",
   "metadata": {},
   "outputs": [
    {
     "name": "stdout",
     "output_type": "stream",
     "text": [
      "3 , ['2', '0']\n",
      "4 , ['2', '1']\n",
      "5 , ['2', '2']\n",
      "6 , ['3', '2']\n",
      "7 , ['4', '2']\n",
      "8 , ['5', '2']\n"
     ]
    }
   ],
   "source": [
    "S = [[int(element.replace('*','-1')) for element in row] for row in matrix]\n",
    "m = int(width)-1\n",
    "n = int(height)-1\n",
    "seq = snakesequence(S, m, n)\n",
    "for i in range(len(seq[0])):\n",
    "    print(seq[0][i], \",\", seq[1][i].split())"
   ]
  }
 ],
 "metadata": {
  "kernelspec": {
   "display_name": "Python 3 (ipykernel)",
   "language": "python",
   "name": "python3"
  },
  "language_info": {
   "codemirror_mode": {
    "name": "ipython",
    "version": 3
   },
   "file_extension": ".py",
   "mimetype": "text/x-python",
   "name": "python",
   "nbconvert_exporter": "python",
   "pygments_lexer": "ipython3",
   "version": "3.9.13"
  }
 },
 "nbformat": 4,
 "nbformat_minor": 5
}
